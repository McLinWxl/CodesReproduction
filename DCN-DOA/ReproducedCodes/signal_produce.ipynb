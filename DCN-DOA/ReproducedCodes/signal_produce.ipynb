{
 "cells": [
  {
   "cell_type": "code",
   "execution_count": null,
   "metadata": {},
   "outputs": [],
   "source": [
    "import numpy as np\n",
    "import matplotlib as plt"
   ]
  },
  {
   "cell_type": "code",
   "execution_count": 28,
   "metadata": {},
   "outputs": [],
   "source": [
    "'''\n",
    ":param M: number of sensors\n",
    ":param snapshot: number of snapshots\n",
    ":param DOA: DOA of the signal\n",
    ":param fc: frequency of the signal\n",
    ":param fo: frequcecy of the array\n",
    ":param fs: sampling frequency\n",
    "'''\n",
    "M = 8\n",
    "snapshot = 256\n",
    "f0 = 1e6\n",
    "fc = 1e6\n",
    "fs = 4 * f0\n",
    "C = M * (M-1)"
   ]
  },
  {
   "cell_type": "code",
   "execution_count": 29,
   "metadata": {},
   "outputs": [],
   "source": [
    "def signal_generation(M, snapshot, DOA, f0, fc, fs, flag):\n",
    "    \"\"\"\n",
    "    :param M: number of sensors\n",
    "    :param snapshot: number of snapshots\n",
    "    :param DOA: DOA of the signal\n",
    "    :param fc: frequency of the signal\n",
    "    :param fo: frequcecy of the array\n",
    "    :param fs: sampling frequency\n",
    "    :param flag: \n",
    "    :return: signal, amplitude, s, am_vector\n",
    "    \"\"\"\n",
    "    if flag == 1:\n",
    "        am_vec = 2 * np.random.rand(1, snapshot) - 1\n",
    "    elif flag == 2:\n",
    "        am_vec = np.random.rand(1, snapshot)\n",
    "    elif flag == 3:\n",
    "        am_vec = np.ones((1, snapshot))\n",
    "    sensor_vec = np.arange(0, M).reshape(-1, 1)\n",
    "    amplitude = exp(1j * pi * fc * sensor_vec * sin(DOA) / f0)\n",
    "    s = np,random.rand(1, snapshot) + 1j * np.random.rand(1, snapshot)\n",
    "    signal = np.dot(amplitude, s)\n",
    "    return signal, s, amplitude, am_vec"
   ]
  },
  {
   "cell_type": "code",
   "execution_count": null,
   "metadata": {},
   "outputs": [],
   "source": [
    "DOA1 = []\n",
    "DOA2 = []\n"
   ]
  }
 ],
 "metadata": {
  "kernelspec": {
   "display_name": "Python 3.10.6 ('base')",
   "language": "python",
   "name": "python3"
  },
  "language_info": {
   "codemirror_mode": {
    "name": "ipython",
    "version": 3
   },
   "file_extension": ".py",
   "mimetype": "text/x-python",
   "name": "python",
   "nbconvert_exporter": "python",
   "pygments_lexer": "ipython3",
   "version": "3.10.6"
  },
  "orig_nbformat": 4,
  "vscode": {
   "interpreter": {
    "hash": "1b2b9bf415f84b889e420ad7a8860db48801ef28c10f7deabf8a2d1409fae0b7"
   }
  }
 },
 "nbformat": 4,
 "nbformat_minor": 2
}
