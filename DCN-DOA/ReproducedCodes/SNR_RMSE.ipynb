{
 "cells": [
  {
   "cell_type": "code",
   "execution_count": 1,
   "metadata": {},
   "outputs": [
    {
     "name": "stderr",
     "output_type": "stream",
     "text": [
      "/Users/mclinwong/miniforge3/lib/python3.10/site-packages/tqdm/auto.py:22: TqdmWarning: IProgress not found. Please update jupyter and ipywidgets. See https://ipywidgets.readthedocs.io/en/stable/user_install.html\n",
      "  from .autonotebook import tqdm as notebook_tqdm\n"
     ]
    }
   ],
   "source": [
    "import torch\n",
    "import torch.nn as nn\n",
    "import numpy as np\n",
    "import matplotlib.pyplot as plt \n",
    "import scipy.io\n",
    "import scipy.signal\n",
    "import heapq\n",
    "from sklearn import preprocessing"
   ]
  },
  {
   "cell_type": "code",
   "execution_count": 2,
   "metadata": {},
   "outputs": [
    {
     "name": "stdout",
     "output_type": "stream",
     "text": [
      "Devices: cpu\n"
     ]
    }
   ],
   "source": [
    "#inisialize\n",
    "if torch.cuda.is_available():\n",
    "    device = torch.device(\"cuda\")\n",
    "elif torch.backends.mps.is_available():\n",
    "    device = torch.device(\"cpu\")\n",
    "\n",
    "print(f'Devices: {device}')"
   ]
  },
  {
   "cell_type": "code",
   "execution_count": 3,
   "metadata": {},
   "outputs": [
    {
     "name": "stdout",
     "output_type": "stream",
     "text": [
      "r2: 1000, I: 120, c: 56, S: 31\n",
      "S_est: (1000, 2, 120, 31), S_abs: (1000, 240, 31)\n",
      "S_label: (1000, 120, 31), S_label1: (1000, 120, 1, 31)\n",
      "R_est: (1000, 56, 31)\n"
     ]
    }
   ],
   "source": [
    "#read file and load models path\n",
    "h5path = '/Users/mclinwong/GitHub/CodesReproduction/DCN-DOA/Data/h5/'\n",
    "pthpath = '/Users/mclinwong/GitHub/CodesReproduction/DCN-DOA/Data/pth/'\n",
    "#read mat file\n",
    "matpath = '/Users/mclinwong/GitHub/CodesReproduction/DCN-DOA/Data/matlib/'\n",
    "figurepath = '/Users/mclinwong/GitHub/CodesReproduction/DCN-DOA/ReproducedCodes/Figures/'\n",
    "read_temp=scipy.io.loadmat(matpath + 'data2_snr.mat')\n",
    "T_SBC_R=read_temp['T_SBC_R']\n",
    "T_SBC=read_temp['T_SBC']\n",
    "SNR=read_temp['SNR']\n",
    "S_est=read_temp['S_est']\n",
    "S_est = S_est.transpose(0, 2, 1, 3)\n",
    "[r2, K, I, S] = np.shape(S_est)\n",
    "S_abs = np.zeros((r2, I*2, S))\n",
    "for i in range(r2):\n",
    "    for k in range(S):\n",
    "        for j in range(I):\n",
    "            S_abs[i, j, k] = S_est[i, 0, j, k]\n",
    "            S_abs[i, I+j, k] = S_est[i, 1, j, k]    \n",
    "\n",
    "S_label=read_temp['S_label']\n",
    "R_est=read_temp['R_est']\n",
    "DOA_train=read_temp['DOA_train']\n",
    "theta=read_temp['theta']\n",
    "gamma=read_temp['gamma']\n",
    "gamma_R=read_temp['gamma_R']\n",
    "S_label1 = np.expand_dims(S_label, 2)\n",
    "normalizer = preprocessing.Normalizer().fit(R_est[:, :, 0])\n",
    "\n",
    "#r2 = 1000, for the number of data\n",
    "#K = 2, for the number of sources\n",
    "#I = 120, for the number of DOAs\n",
    "#S =31, for the number of SNRs\n",
    "\n",
    "[r2,c,S]=np.shape(R_est)\n",
    "[r2,I,S]=np.shape(S_label)\n",
    "print(f'r2: {r2}, I: {I}, c: {c}, S: {S}')\n",
    "print(f'S_est: {S_est.shape}, S_abs: {S_abs.shape}' \n",
    "      f'\\nS_label: {S_label.shape}, S_label1: {S_label1.shape}'\n",
    "      f'\\nR_est: {R_est.shape}')\n",
    "\n",
    "\n",
    "DOA = np.arange(I)-60\n",
    "L = I"
   ]
  },
  {
   "cell_type": "code",
   "execution_count": 4,
   "metadata": {},
   "outputs": [],
   "source": [
    "class CNN(nn.Module):\n",
    "    def __init__(self,activ):\n",
    "        super().__init__()\n",
    "        self.conv1 = nn.Sequential(nn.Conv1d(2,12,kernel_size=25, padding=12), nn.BatchNorm1d(12), activ())\n",
    "        self.conv2 = nn.Sequential(nn.Conv1d(12,6,kernel_size=15, padding=7),  nn.BatchNorm1d(6), activ())\n",
    "        self.conv3 = nn.Sequential(nn.Conv1d(6,3,kernel_size=5, padding=2), nn.BatchNorm1d(3), activ())\n",
    "        self.conv4 = nn.Sequential(nn.Conv1d(3,1,kernel_size=3, padding=1),nn.BatchNorm1d(1), activ())\n",
    "    \n",
    "    def forward(self, x):  \n",
    "        out = self.conv1(x)\n",
    "        out = self.conv2(out)\n",
    "        out = self.conv3(out)\n",
    "        out = self.conv4(out)\n",
    "       \n",
    "        return out\n",
    "cnnrelu = torch.load(pthpath + 'cnnrelu.pth')\n",
    "cnntanh = torch.load(pthpath + 'cnntanh.pth')\n",
    "cnnsigmoid = torch.load(pthpath + 'cnnsigmoid.pth')\n"
   ]
  },
  {
   "cell_type": "code",
   "execution_count": 5,
   "metadata": {},
   "outputs": [],
   "source": [
    "# Shape of Conv1D: (batch_size, channels, seq_len)\n",
    "# length_out = (length_in - kernel_size + 2 * padding) / stride + 1\n",
    "class CNN_nobatchnorm(nn.Module):\n",
    "    def __init__(self,activ):\n",
    "        super().__init__()\n",
    "        self.conv1 = nn.Sequential(nn.Conv1d(2,12,kernel_size=25, padding=12), activ())\n",
    "        self.conv2 = nn.Sequential(nn.Conv1d(12,6,kernel_size=15, padding=7), activ())\n",
    "        self.conv3 = nn.Sequential(nn.Conv1d(6,3,kernel_size=5, padding=2), activ())\n",
    "        self.conv4 = nn.Sequential(nn.Conv1d(3,1,kernel_size=3, padding=1), activ())\n",
    "    \n",
    "    def forward(self, x):  \n",
    "        out = self.conv1(x)\n",
    "        out = self.conv2(out)\n",
    "        out = self.conv3(out)\n",
    "        out = self.conv4(out)\n",
    "       \n",
    "        return out\n",
    "\n",
    "cnnrelu_nobatchnorm = torch.load(pthpath + 'cnnrelu_nobatchnorm.pth')\n",
    "cnntanh_nobatchnorm = torch.load(pthpath + 'cnntanh_nobatchnorm.pth')\n",
    "cnnsigmoid_nobatchnorm = torch.load(pthpath + 'cnnsigmoid_nobatchnorm.pth')"
   ]
  },
  {
   "cell_type": "code",
   "execution_count": 6,
   "metadata": {},
   "outputs": [],
   "source": [
    "class DNN(nn.Module):\n",
    "    def __init__(self, activa):\n",
    "        super(DNN, self).__init__()\n",
    "        self.fc1 = nn.Sequential(nn.Linear(2*I, int(2*I/3)), nn.BatchNorm1d(int(2*I/3)), activa())\n",
    "        self.fc2 = nn.Sequential(nn.Linear(int(2*I/3), int(4*I/9)), nn.BatchNorm1d(int(4*I/9)), activa())\n",
    "        self.fc3 = nn.Sequential(nn.Linear(int(4*I/9), int(2*I/3)), nn.BatchNorm1d(int(2*I/3)), activa())\n",
    "        self.fc4 = nn.Sequential(nn.Linear(int(2*I/3), I), nn.BatchNorm1d(I), activa())\n",
    "    \n",
    "    def forward(self, x):\n",
    "        out = self.fc1(x)\n",
    "        out = self.fc2(out)\n",
    "        out = self.fc3(out)\n",
    "        out = self.fc4(out)\n",
    "        return out\n",
    "dnnrelu = torch.load(pthpath + 'dnnrelu.pth')\n",
    "dnntanh = torch.load(pthpath + 'dnntanh.pth')\n",
    "dnnsigmoid = torch.load(pthpath + 'dnnsigmoid.pth')"
   ]
  },
  {
   "cell_type": "code",
   "execution_count": 7,
   "metadata": {},
   "outputs": [],
   "source": [
    "class DNN_nobatchnorm(nn.Module):\n",
    "    def __init__(self, activa):\n",
    "        super(DNN, self).__init__()\n",
    "        self.fc1 = nn.Sequential(nn.Linear(2*L, int(2*L/3)), activa())\n",
    "        self.fc2 = nn.Sequential(nn.Linear(int(2*L/3), int(4*L/9)), activa())\n",
    "        self.fc3 = nn.Sequential(nn.Linear(int(4*L/9), int(2*L/3)), activa())\n",
    "        self.fc4 = nn.Sequential(nn.Linear(int(2*L/3), L), activa())\n",
    "    \n",
    "    def forward(self, x):\n",
    "        out = self.fc1(x)\n",
    "        out = self.fc2(out)\n",
    "        out = self.fc3(out)\n",
    "        out = self.fc4(out)\n",
    "        return out\n",
    "    \n",
    "dnnrelu_nobatchnorm = torch.load(pthpath + 'dnnrelu_nobatchnorm.pth')\n",
    "dnntanh_nobatchnorm = torch.load(pthpath + 'dnntanh_nobatchnorm.pth')\n",
    "dnnsigmoid_nobatchnorm = torch.load(pthpath + 'dnnsigmoid_nobatchnorm.pth')"
   ]
  },
  {
   "cell_type": "code",
   "execution_count": 8,
   "metadata": {},
   "outputs": [],
   "source": [
    "def Test(model, inputx, k, flag=1):\n",
    "    model = model.to(device)\n",
    "    model.eval()\n",
    "    ls = []\n",
    "    for i in range(r2):\n",
    "        with torch.no_grad():\n",
    "            if flag == 0:\n",
    "                x = np.zeros((K, I))\n",
    "                x[:, :] = inputx[i, :, :, k]\n",
    "                #atttntion: the input of the model should be a tensor which is in the shape of (batch_size, channel, length)\n",
    "                x = torch.from_numpy(x.reshape(1, K, I)).float().to('cpu')\n",
    "            elif flag == 1:\n",
    "                x = np.zeros(K*I)\n",
    "                x[:] = inputx[i, :, k]\n",
    "                x = torch.from_numpy(x.reshape(1, -1)).float().to('cpu')\n",
    "            x = x.to(device)\n",
    "            # print(np.shape(x))\n",
    "            y = model(x)\n",
    "            y = y.cpu().numpy()\n",
    "            ls.append(y)\n",
    "    predict = np.array(ls)\n",
    "    return np.squeeze(predict)"
   ]
  },
  {
   "cell_type": "code",
   "execution_count": 9,
   "metadata": {},
   "outputs": [],
   "source": [
    "test_cnn_low=np.zeros((r2,1))\n",
    "\n",
    "\n",
    "def predict2doaarray(model, input, flag):\n",
    "    predict = np.zeros((r2, I, S))\n",
    "    for i in range(S):\n",
    "        predict1 = Test(model, input, i, flag)\n",
    "        \n",
    "        predict[:, :, i] = predict1\n",
    "    return predict\n",
    "\n",
    "doa_dnntanharray = predict2doaarray(dnntanh, S_abs, 1)\n",
    "doa_dnnreluarray = predict2doaarray(dnnrelu, S_abs, 1)\n",
    "doa_dnnsigmoidarray = predict2doaarray(dnnsigmoid, S_abs, 1)\n",
    "doa_dnntanharray_nobatchnorm = predict2doaarray(dnntanh_nobatchnorm, S_abs, 1)\n",
    "doa_dnnreluarray_nobatchnorm = predict2doaarray(dnnrelu_nobatchnorm, S_abs, 1)\n",
    "doa_dnnsigmoidarray_nobatchnorm = predict2doaarray(dnnsigmoid_nobatchnorm, S_abs, 1)\n",
    "doa_dcntanharray = predict2doaarray(cnntanh, S_est, 0)\n",
    "doa_dcnreluarray = predict2doaarray(cnnrelu, S_est, 0)\n",
    "doa_dcnsigmoidarray = predict2doaarray(cnnsigmoid, S_est, 0)\n",
    "doa_dcnreluarray_nobatchnorm = predict2doaarray(cnnrelu_nobatchnorm, S_est, 0)\n",
    "doa_dcnsigmoidarray_nobatchnorm = predict2doaarray(cnnsigmoid_nobatchnorm, S_est, 0)\n",
    "doa_dcntanharray_nobatchnorm = predict2doaarray(cnntanh_nobatchnorm, S_est, 0)\n"
   ]
  },
  {
   "cell_type": "code",
   "execution_count": 30,
   "metadata": {},
   "outputs": [],
   "source": [
    "def DOAarray2peak(predict, height = 0.1, nodetect = 0):\n",
    "    #flag==0 for CNN, flag==1 for DNN\n",
    "    peak = np.zeros((K, r2, S))\n",
    "    for i in range(r2):\n",
    "        for m in range(S):\n",
    "            li = []\n",
    "            li = predict[i, :, m]\n",
    "            peaks_st = np.zeros((K))\n",
    "            peaks_st = peaks_st + nodetect\n",
    "            peaks,_ = scipy.signal.find_peaks(li, height=height)\n",
    "            maxamp = heapq.nlargest(K, li[peaks])\n",
    "            \n",
    "            rank = np.zeros(np.shape(maxamp)[0])\n",
    "            for s in range(np.shape(maxamp)[0]):\n",
    "                rank[s] = np.where(li==maxamp[s])[0][0]\n",
    "            \n",
    "            if len(peaks) == K:\n",
    "                peaks_st = peaks\n",
    "            elif len(peaks) == 0:\n",
    "                peaks_st = peaks_st\n",
    "            elif len(peaks) < K:\n",
    "                for t in range(len(peaks)):\n",
    "                    peaks_st[t] = peaks[t]\n",
    "            elif len(peaks) > K:\n",
    "                for j in range(K):\n",
    "                    peaks_st[j] = rank[j]\n",
    "\n",
    "            peak[:, i, m] = sorted(peaks_st, reverse=True)\n",
    "        # if peaks_st[0] > peaks_st[1]:\n",
    "        #     peak[:,i] = [peaks_st[0], peaks_st[1]]\n",
    "        # else:\n",
    "        #     peak[:,i] = [peaks_st[1], peaks_st[0]]\n",
    "    return peak-60\n",
    "\n",
    "doa_dnntanh = DOAarray2peak(doa_dnntanharray)\n",
    "doa_dnnrelu = DOAarray2peak(doa_dnnreluarray)\n",
    "doa_dnnsigmoid = DOAarray2peak(doa_dnnsigmoidarray)\n",
    "doa_dnntanh_nobatchnorm = DOAarray2peak(doa_dnntanharray_nobatchnorm)\n",
    "doa_dnnrelu_nobatchnorm = DOAarray2peak(doa_dnnreluarray_nobatchnorm)\n",
    "doa_dnnsigmoid_nobatchnorm = DOAarray2peak(doa_dnnsigmoidarray_nobatchnorm)\n",
    "\n",
    "doa_dcntanh = DOAarray2peak(doa_dcntanharray)\n",
    "doa_dcnrelu = DOAarray2peak(doa_dcnreluarray)\n",
    "doa_dcnsigmoid = DOAarray2peak(doa_dcnsigmoidarray)\n",
    "doa_dcnrelu_nobatchnorm = DOAarray2peak(doa_dcnreluarray_nobatchnorm)\n",
    "doa_dcnsigmoid_nobatchnorm = DOAarray2peak(doa_dcnsigmoidarray_nobatchnorm)\n",
    "doa_dcntanh_nobatchnorm = DOAarray2peak(doa_dcntanharray_nobatchnorm)"
   ]
  },
  {
   "cell_type": "code",
   "execution_count": 31,
   "metadata": {},
   "outputs": [],
   "source": [
    "#change the column\n",
    "def switchcolumn(inarray):\n",
    "    a = np.zeros((K, r2, S))\n",
    "    a[0, :, :] = inarray[1, :, :]\n",
    "    a[1, :, :] = inarray[0, :, :]\n",
    "    return a\n",
    "\n",
    "def caculate_rmse(predictDOApeek):\n",
    "    predictDOApeek = switchcolumn(predictDOApeek)\n",
    "    rmse_matrix_power = np.zeros((r2, 1))\n",
    "    rmse = np.zeros((S, 1))\n",
    "    for s in range(S):\n",
    "        for r in range(r2):\n",
    "            rmse_matrix_power[r] = np.mean(np.square(predictDOApeek[:, r, s] - DOA_train[:, r, s]))\n",
    "        rmse[s] = np.sqrt(np.mean(rmse_matrix_power))\n",
    "    return rmse\n",
    "\n",
    "rmse_dnntanh = caculate_rmse(doa_dnntanh)\n",
    "rmse_dnnrelu = caculate_rmse(doa_dnnrelu)\n",
    "rmse_dnnsigmoid = caculate_rmse(doa_dnnsigmoid)\n",
    "rmse_dnntanh_nobatchnorm = caculate_rmse(doa_dnntanh_nobatchnorm)\n",
    "rmse_dnnrelu_nobatchnorm = caculate_rmse(doa_dnnrelu_nobatchnorm)\n",
    "rmse_dnnsigmoid_nobatchnorm = caculate_rmse(doa_dnnsigmoid_nobatchnorm)\n",
    "\n",
    "rmse_dcntanh = caculate_rmse(doa_dcntanh)\n",
    "rmse_dcnrelu = caculate_rmse(doa_dcnrelu)\n",
    "rmse_dcnsigmoid = caculate_rmse(doa_dcnsigmoid)\n",
    "rmse_dcnrelu_nobatchnorm = caculate_rmse(doa_dcnrelu_nobatchnorm)\n",
    "rmse_dcnsigmoid_nobatchnorm = caculate_rmse(doa_dcnsigmoid_nobatchnorm)\n",
    "rmse_dcntanh_nobatchnorm = caculate_rmse(doa_dcntanh_nobatchnorm)"
   ]
  },
  {
   "cell_type": "code",
   "execution_count": 32,
   "metadata": {},
   "outputs": [],
   "source": [
    "doa_sbl = DOAarray2peak(gamma)\n",
    "rmse_sbl = caculate_rmse(doa_sbl)\n",
    "\n",
    "doa_sblr = DOAarray2peak(gamma_R)\n",
    "rmse_sblr = caculate_rmse(doa_sblr)"
   ]
  },
  {
   "cell_type": "code",
   "execution_count": 41,
   "metadata": {},
   "outputs": [
    {
     "data": {
      "image/png": "[encoded data removed]",
      "text/plain": [
       "<Figure size 990x750 with 1 Axes>"
      ]
     },
     "metadata": {},
     "output_type": "display_data"
    }
   ],
   "source": [
    "leftrange = -15\n",
    "rightrange = 15\n",
    "snr_list = range(leftrange,rightrange+1)\n",
    "with plt.style.context(['science', 'ieee']):\n",
    "    plt.rcParams['figure.dpi'] = 300\n",
    "    plt.rcParams['savefig.dpi'] = 300\n",
    "    # plt.ylim([0.1,100])\n",
    "    # plt.semilogy(snr_list, rmse_dcntanh[leftrange+15:rightrange+16, :], label='CNN + Tanh')\n",
    "    # plt.semilogy(snr_list, rmse_dcnrelu[leftrange+15:rightrange+16, :], label='CNN + ReLU')\n",
    "    # plt.semilogy(snr_list, rmse_dcnsigmoid[leftrange+15:rightrange+16, :], label='CNN + Sigmoid')\n",
    "    \n",
    "    # plt.semilogy(snr_list, rmse_dcntanh_nobatchnorm[leftrange+15:rightrange+16, :], label='CNN + Tanh + No BatchNorm')\n",
    "    plt.semilogy(snr_list, rmse_dcnrelu_nobatchnorm[leftrange+15:rightrange+16, :], label='CNN + ReLU + No BatchNorm')\n",
    "    # plt.semilogy(snr_list, rmse_dcnsigmoid_nobatchnorm[leftrange+15:rightrange+16, :], label='CNN + Sigmoid + No BatchNorm')\n",
    "    \n",
    "    # plt.semilogy(snr_list, rmse_dnnrelu[leftrange+15:rightrange+16, :], label='DNN + ReLU')\n",
    "    # plt.semilogy(snr_list, rmse_dnntanh[leftrange+15:rightrange+16, :], label='DNN + Tanh')\n",
    "    # plt.semilogy(snr_list, rmse_dnnsigmoid[leftrange+15:rightrange+16, :], label='DNN + Sigmoid')\n",
    "    \n",
    "    plt.semilogy(snr_list, rmse_dnnrelu_nobatchnorm[leftrange+15:rightrange+16, :], label='DNN + ReLU + No BatchNorm')\n",
    "    # plt.semilogy(snr_list, rmse_dnntanh_nobatchnorm[leftrange+15:rightrange+16, :], label='DNN + Tanh + No BatchNorm')\n",
    "    # plt.semilogy(snr_list, rmse_dnnsigmoid_nobatchnorm[leftrange+15:rightrange+16, :], label='DNN + Sigmoid + No BatchNorm')\n",
    "    \n",
    "    plt.semilogy(snr_list, rmse_sbl[leftrange+15:rightrange+16, :], label='SBL')\n",
    "    plt.semilogy(snr_list, rmse_sblr[leftrange+15:rightrange+16, :], label='SBLR')\n",
    "    plt.savefig(figurepath + 'SNR_VS_RMSE/Total Rmse.pdf')\n",
    "    plt.legend()\n",
    "    plt.show()"
   ]
  }
 ],
 "metadata": {
  "kernelspec": {
   "display_name": "Python 3.10.6 ('base')",
   "language": "python",
   "name": "python3"
  },
  "language_info": {
   "codemirror_mode": {
    "name": "ipython",
    "version": 3
   },
   "file_extension": ".py",
   "mimetype": "text/x-python",
   "name": "python",
   "nbconvert_exporter": "python",
   "pygments_lexer": "ipython3",
   "version": "3.10.6 | packaged by conda-forge | (main, Aug 22 2022, 20:38:29) [Clang 13.0.1 ]"
  },
  "orig_nbformat": 4,
  "vscode": {
   "interpreter": {
    "hash": "1b2b9bf415f84b889e420ad7a8860db48801ef28c10f7deabf8a2d1409fae0b7"
   }
  }
 },
 "nbformat": 4,
 "nbformat_minor": 2
}
